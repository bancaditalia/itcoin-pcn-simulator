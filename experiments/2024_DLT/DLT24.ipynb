{
 "cells": [
  {
   "cell_type": "markdown",
   "id": "16bcbd12-1ba8-4875-9144-34fef5fc6684",
   "metadata": {},
   "source": [
    "# DLT24: Impact of Layer-1 Characteristics on Scalability of Layer-2 Semi-Hierarchical Payment Channel Networks"
   ]
  },
  {
   "cell_type": "markdown",
   "id": "35cb2d83-202a-462a-9fc6-0beb008df0e8",
   "metadata": {},
   "source": [
    "## Initialization"
   ]
  },
  {
   "cell_type": "code",
   "execution_count": null,
   "id": "bcf23c7c-a936-4884-b18d-6f9ce5930453",
   "metadata": {},
   "outputs": [],
   "source": [
    "import sys, os \n",
    "from datetime import datetime\n",
    "import pandas as pd\n",
    "import shutil\n",
    "import pathlib\n",
    "\n",
    "%load_ext autoreload\n",
    "%autoreload 2"
   ]
  },
  {
   "cell_type": "code",
   "execution_count": null,
   "id": "a7277a91-6321-4a1b-8223-3d54e43b8bd4",
   "metadata": {},
   "outputs": [],
   "source": [
    "experiment_root_dir = os.path.abspath(os.path.join(os.getcwd()))\n",
    "cloth_root_dir = os.path.abspath(os.path.join(os.getcwd(),\"../..\"))\n",
    "cloth_root_dir, experiment_root_dir"
   ]
  },
  {
   "cell_type": "code",
   "execution_count": null,
   "id": "ea5a7332-0a06-4afd-ad95-73d387daaf51",
   "metadata": {},
   "outputs": [],
   "source": [
    "from experiments_runner import run_all_simulations\n",
    "from plasma_network_generator.commands.generate_all import Args as TopologyGeneratorArgs, _execute as topology_generate, DEFAULT_FRACTION_OF_UNBANKED_RETAIL_USERS\n",
    "from plasma_network_generator.core import select_eurosystem_subset"
   ]
  },
  {
   "cell_type": "code",
   "execution_count": null,
   "id": "5c9bd129-a87b-4e43-bd59-cee0b94cd2fb",
   "metadata": {},
   "outputs": [],
   "source": [
    "seeds = [111, 128, 209, 250, 302, 421, 634, 710, 892, 901]\n",
    "capacities = [0.001, 0.002, 0.005]"
   ]
  },
  {
   "cell_type": "markdown",
   "id": "14215282-7ddd-44cb-8021-4179d4691250",
   "metadata": {},
   "source": [
    "## Create topologies"
   ]
  },
  {
   "cell_type": "code",
   "execution_count": null,
   "id": "d48fec75-c829-423b-bd02-15b7954703a0",
   "metadata": {},
   "outputs": [],
   "source": [
    "topologies_dir = os.path.abspath(os.path.join(cloth_root_dir,f\"experiments/2024_DLT/topologies\"))\n",
    "pathlib.Path(topologies_dir).mkdir(parents=True, exist_ok=True)\n",
    "topologies_dir"
   ]
  },
  {
   "cell_type": "code",
   "execution_count": null,
   "id": "a63f1ca5-e5f2-453c-8964-4e7ff074f2c4",
   "metadata": {},
   "outputs": [],
   "source": [
    "for seed in seeds:\n",
    "    topologies_seed_dir = os.path.abspath(os.path.join(topologies_dir,f\"seed_{seed}\"))\n",
    "    if os.path.exists(topologies_seed_dir):\n",
    "        print(f\"Skipping {topologies_seed_dir=} because it already exists.\")\n",
    "        continue\n",
    "    topgen_args = TopologyGeneratorArgs(\n",
    "        model_params_file = pathlib.Path( os.path.join(cloth_root_dir,f\"experiments/2024_DLT/PCN_model_params.json\") ),\n",
    "        nb_partitions = [4],\n",
    "        seed = seed,\n",
    "        nations = select_eurosystem_subset([\"IT\",\"FR\",\"DE\",\"ES\"]),\n",
    "        nb_retail = 400000,\n",
    "        nb_merchants = 4000,\n",
    "        nb_intermediaries = 40,\n",
    "        capacity_fractions = capacities,\n",
    "        output_dir = pathlib.Path(topologies_seed_dir),\n",
    "    \n",
    "        # Other args\n",
    "        version = False, # Do not print version and exit\n",
    "        verbose = False,\n",
    "        p_small_merchants = 0.4,\n",
    "        p_medium_merchants =  0.3,\n",
    "        p_large_merchants = 0.3,\n",
    "        fraction_of_unbanked_retail_users = DEFAULT_FRACTION_OF_UNBANKED_RETAIL_USERS\n",
    "    )\n",
    "    topology_generate(topgen_args)\n"
   ]
  },
  {
   "cell_type": "markdown",
   "id": "b1b274d3-b89e-489f-80d1-7f391636f1c9",
   "metadata": {},
   "source": [
    "## Run simulations"
   ]
  },
  {
   "cell_type": "code",
   "execution_count": null,
   "id": "c108e37e-84cd-4c73-9567-467036df369d",
   "metadata": {},
   "outputs": [],
   "source": [
    "results_dir = os.path.abspath(os.path.join(cloth_root_dir,f\"experiments/2024_DLT/results\"))\n",
    "results_file = os.path.abspath(os.path.join(results_dir,f\"results.csv\"))\n",
    "\n",
    "print(f\"{results_dir=}\\n{results_file=}\")\n",
    "\n",
    "reset_results = False\n",
    "if reset_results and os.path.exists(results_dir): \n",
    "    shutil.rmtree(results_dir)\n",
    "pathlib.Path(results_dir).mkdir(parents=True, exist_ok=True)\n",
    "\n",
    "results = pd.DataFrame()\n",
    "if os.path.exists(results_file):\n",
    "    results = pd.read_csv(results_file)\n",
    "\n",
    "results.head()"
   ]
  },
  {
   "cell_type": "markdown",
   "id": "4ef4c5a1-5a96-43b1-bf43-c44571251aef",
   "metadata": {},
   "source": [
    "\n",
    "### Experiment 1 - Swap Threshold vs Payment Success Rate"
   ]
  },
  {
   "cell_type": "code",
   "execution_count": null,
   "id": "bb4e9733-b187-47dc-bc7d-4d7403226598",
   "metadata": {},
   "outputs": [],
   "source": [
    "results = run_all_simulations(\n",
    "    cloth_root_dir = cloth_root_dir,\n",
    "    topologies_dir = topologies_dir,\n",
    "    results_dir = results_dir,\n",
    "    results_file = results_file,\n",
    "    \n",
    "    block_congestion_rates = 0.5,\n",
    "    block_sizes = 4,\n",
    "    capacities = [0.001, 0.002, 0.005],\n",
    "    num_processess = 4,\n",
    "    seeds = seeds, \n",
    "    # simulation_ends = 3600000,\n",
    "    simulation_ends = 86400000,\n",
    "    submarine_swap_thresholds = [0.6, 0.7, 0.8, 0.9, 0.95, 0.98],\n",
    "    syncs = 2,\n",
    "    tpss = 2,\n",
    "    tps_cfgs = None,\n",
    ")"
   ]
  },
  {
   "cell_type": "markdown",
   "id": "089102dc-f4d3-445c-89fd-29d11e320535",
   "metadata": {},
   "source": [
    "### Experiment 2 - Swap Threshold vs Payment Success Rate with shaped load"
   ]
  },
  {
   "cell_type": "code",
   "execution_count": null,
   "id": "16a5f205-ce67-476e-bd26-eae1af704d7f",
   "metadata": {},
   "outputs": [],
   "source": [
    "results = run_all_simulations(\n",
    "    cloth_root_dir = cloth_root_dir,\n",
    "    topologies_dir = topologies_dir,\n",
    "    results_dir = results_dir,\n",
    "    results_file = results_file,\n",
    "    \n",
    "    block_congestion_rates = 0,\n",
    "    block_sizes = 4,\n",
    "    capacities = [0.001, 0.002],\n",
    "    num_processess = 1,\n",
    "    seeds = seeds, \n",
    "    # simulation_ends = 3600000,\n",
    "    simulation_ends = 86400000,\n",
    "    submarine_swap_thresholds = [0.6, 0.8, 0.9],\n",
    "    syncs = 2,\n",
    "    tpss = None,\n",
    "    tps_cfgs = os.path.abspath(os.path.join(experiment_root_dir,f\"PCN_load.txt\")),\n",
    ")"
   ]
  },
  {
   "cell_type": "markdown",
   "id": "65583092-497e-4b1a-b566-54f65760fed3",
   "metadata": {},
   "source": [
    "### Experiment 3 - Impact of congestion"
   ]
  },
  {
   "cell_type": "code",
   "execution_count": null,
   "id": "477e8e00-27bf-42b6-b174-2f6422349fe0",
   "metadata": {},
   "outputs": [],
   "source": [
    "results = run_all_simulations(\n",
    "    cloth_root_dir = cloth_root_dir,\n",
    "    topologies_dir = topologies_dir,\n",
    "    results_dir = results_dir,\n",
    "    results_file = results_file,\n",
    "    \n",
    "    block_congestion_rates = [0.1, 0.2, 0.3, 0.4, 0.5, 0.6, 0.7, 0.8, 0.9],\n",
    "    block_sizes = 4,\n",
    "    capacities = [0.001, 0.002, 0.005],\n",
    "    num_processess = 4,\n",
    "    seeds = seeds, \n",
    "    # simulation_ends = 3600000,\n",
    "    simulation_ends = 86400000,\n",
    "    submarine_swap_thresholds = 0.9,\n",
    "    syncs = 2,\n",
    "    tpss = 2,\n",
    "    tps_cfgs = None,\n",
    ")"
   ]
  },
  {
   "cell_type": "markdown",
   "id": "f3a26329-6158-4638-a94d-0dd90a07bb20",
   "metadata": {},
   "source": [
    "## Create charts"
   ]
  },
  {
   "cell_type": "code",
   "execution_count": null,
   "id": "6d5bbb88-0c4c-44a0-9ac4-ac95bab76c1b",
   "metadata": {},
   "outputs": [],
   "source": [
    "import os\n",
    "import glob\n",
    "import json\n",
    "import pandas as pd\n",
    "import numpy as np\n",
    "import seaborn as sns\n",
    "import matplotlib.pyplot as plt\n",
    "import matplotlib.ticker as ticker\n",
    "from pathlib import Path\n",
    "\n",
    "# Set up the seaborn style\n",
    "latex_preamble = r\"\"\"\n",
    "\\renewcommand{\\bfdefault}{sb}  % Semibold weight\n",
    "\"\"\"\n",
    "custom_params = {\n",
    "    'grid.linestyle': '--',\n",
    "    \"text.usetex\": True,\n",
    "    'text.latex.preamble': latex_preamble,\n",
    "    \"font.family\": \"serif\",\n",
    "    'font.size': 16,\n",
    "    'legend.title_fontsize': 14,\n",
    "    'axes.linewidth': 1.5,\n",
    "    'lines.linewidth': 3,\n",
    "    'axes.labelsize':  20,\n",
    "    'xtick.labelsize': 18,\n",
    "    'ytick.labelsize': 18,\n",
    "    'legend.fontsize': 16,\n",
    "    'lines.markersize': 8\n",
    "}\n",
    "sns.set_theme(style=\"whitegrid\", rc=custom_params)\n",
    "sns.color_palette(\"tab10\")\n",
    "\n",
    "plots_dir = os.path.abspath(os.path.join(cloth_root_dir,f\"experiments/2024_DLT/plots\"))\n",
    "pathlib.Path(plots_dir).mkdir(parents=True, exist_ok=True)"
   ]
  },
  {
   "cell_type": "markdown",
   "id": "2c606f0f-7b9f-4409-803e-2b08f6289eba",
   "metadata": {},
   "source": [
    "### Chart 1"
   ]
  },
  {
   "cell_type": "code",
   "execution_count": null,
   "id": "9320d031-fc3e-4de0-917d-677b47f456b1",
   "metadata": {},
   "outputs": [],
   "source": [
    "plot1_df = results[\n",
    "    (results['tps'] == 2) &\n",
    "    (results['block_congestion_rate'] == 0)\n",
    "]\n",
    "plot1_df.head()"
   ]
  },
  {
   "cell_type": "code",
   "execution_count": null,
   "id": "8479c20b-a9fa-4899-b2c8-33b4cdeef1a5",
   "metadata": {},
   "outputs": [],
   "source": [
    "# Plot 1\n",
    "# Create a lineplot with twin x-axis\n",
    "plt.figure(figsize=(10, 5))\n",
    "ax = sns.lineplot(data=plot1_df,\n",
    "             x='submarine_swap_threshold',\n",
    "             y='success',\n",
    "             marker='o',\n",
    "             palette='tab10',\n",
    "             hue=\"capacity\",\n",
    "             estimator='mean',\n",
    "             errorbar='sd',\n",
    "             markersize='12')\n",
    "ax2 = ax.twinx()\n",
    "sns.lineplot(data=plot1_df,\n",
    "                  x='submarine_swap_threshold',\n",
    "                  y='mean_submarine_swaps_per_minute',\n",
    "                  hue=\"capacity\",\n",
    "                  palette='tab10',\n",
    "                  estimator='mean',\n",
    "                  errorbar='sd',\n",
    "                  linestyle='dotted',\n",
    "                  marker='X',\n",
    "                  ax=ax2,\n",
    "                  markersize='8')\n",
    "\n",
    "# Set labels and title\n",
    "ax.set_xlabel(r'\\textbf{Swap Threshold}',fontsize=22)\n",
    "ax2.set_ylabel(r'\\begin{center}\\textbf{Swaps per}\\\\\\textbf{Minute (SPM)}\\end{center}',fontsize=22)\n",
    "ax.set_ylabel(r'\\begin{center}\\textbf{Payment Success}\\\\\\textbf{Rate (PSR)}\\end{center}',fontsize=22)\n",
    "\n",
    "ax2.xaxis.set_major_locator(ticker.FixedLocator([0.6,0.7,0.8,0.9,0.95,0.98]))\n",
    "ax.xaxis.set_major_formatter(ticker.PercentFormatter(xmax=1, decimals=0))\n",
    "ax.yaxis.set_major_formatter(ticker.PercentFormatter(xmax=1, decimals=0))\n",
    "\n",
    "# Remove legend\n",
    "ax.legend_.remove()\n",
    "ax2.legend_.remove()\n",
    "# Combining legend handles and labels from both axes\n",
    "handles1, labels1 = ax2.get_legend_handles_labels()\n",
    "handles2, labels2 = ax.get_legend_handles_labels()\n",
    "handles = handles2 + handles1\n",
    "labels = ['800k', '1.6M','4M','800k', '1.6M', '4M']\n",
    "\n",
    "# Creating the legend\n",
    "plt.legend(handles, labels, title=r'\\begin{center}\\textbf{Network Liquidity (\\texteuro)}\\\\\\textbf{PSR}\\qquad \\qquad \\textbf{SPM}\\end{center}',loc='lower left', fontsize='14',ncol=2)\n",
    "\n",
    "# Save the plot as a PDF file with tight layout\n",
    "plt.tight_layout()\n",
    "plt.savefig(os.path.join(plots_dir, f\"plot1_ss-vs-sstp.pdf\"),format='pdf',pad_inches = 0,bbox_inches='tight')\n",
    "plt.show()"
   ]
  },
  {
   "cell_type": "markdown",
   "id": "db326284-7679-461a-93a9-44c8fa3154d0",
   "metadata": {},
   "source": [
    "## Chart 2 and 3"
   ]
  },
  {
   "cell_type": "code",
   "execution_count": null,
   "id": "a71d8181-2d10-4f1f-b78a-956a08dd1a77",
   "metadata": {},
   "outputs": [],
   "source": [
    "plot3_df = results[\n",
    "    (results['capacity']==0.001) \n",
    "    & (results['tps_cfg'] == os.path.abspath(os.path.join(experiment_root_dir,f\"PCN_load.txt\"))) \n",
    "    & (results['block_congestion_rate'] == 0) \n",
    "    & ((results['submarine_swap_threshold'] == 0.6) | (results['submarine_swap_threshold'] == 0.8) | (results['submarine_swap_threshold'] == 0.9))\n",
    "]\n",
    "plot3_df.head()"
   ]
  },
  {
   "cell_type": "code",
   "execution_count": null,
   "id": "d0e0a56c-0d8e-4791-a614-53fc5ee7e5b7",
   "metadata": {},
   "outputs": [],
   "source": [
    "# Step 1: Create goal3 DF from input folder\n",
    "\n",
    "success_per_minute = pd.DataFrame([\n",
    "{\n",
    "    'minute': int(minute), \n",
    "    'number': number, \n",
    "    'capacity': row['capacity'], \n",
    "    'seed': row['seed'], \n",
    "    'submarine_swap_threshold': row['submarine_swap_threshold']\n",
    "}\n",
    "for _, row in plot3_df.iterrows()\n",
    "for minute, number in json.loads(row['success_per_minute']).items()\n",
    "]).sort_values(by=['capacity', 'seed', 'submarine_swap_threshold', 'minute'])\n",
    "\n",
    "window_size = 15\n",
    "success_per_minute['success_smooth'] = (success_per_minute.groupby(['capacity','seed','submarine_swap_threshold'])['number'].rolling(window=window_size,min_periods=1).mean().reset_index(level=[0,1,2],drop=True))\n",
    "\n",
    "tx_per_minute = pd.DataFrame([\n",
    "    {'minute': int(minute), 'number': number, 'capacity': row['capacity'], 'seed': row['seed'], 'submarine_swap_threshold': row['submarine_swap_threshold']}\n",
    "    for _, row in plot3_df.iterrows()\n",
    "    for minute, number in json.loads(row['transactions_per_minute']).items()\n",
    "]).sort_values(by=['capacity','seed','submarine_swap_threshold', 'minute'])\n",
    "\n",
    "tx_per_minute['tx_smooth'] = (tx_per_minute.groupby(['capacity', 'seed', 'submarine_swap_threshold'])['number'].rolling(window=window_size,min_periods=1).mean().reset_index(level=[0,1,2],drop=True))"
   ]
  },
  {
   "cell_type": "code",
   "execution_count": null,
   "id": "f0b055a0-e7a6-41ac-929d-143b41f96fdf",
   "metadata": {},
   "outputs": [],
   "source": [
    "# Plot 3\n",
    "fig, (ax1, ax2) = plt.subplots(2, gridspec_kw={'height_ratios': [1, 2]})\n",
    "fig.set_size_inches(8, 6)\n",
    "\n",
    "sns.lineplot(x='minute',\n",
    "        y='success_smooth',\n",
    "        data=success_per_minute,\n",
    "        estimator='mean',\n",
    "        errorbar='sd',\n",
    "        hue='submarine_swap_threshold',\n",
    "        ax=ax2,\n",
    "        palette='tab10')\n",
    "\n",
    "sns.lineplot(x='minute',\n",
    "        y='tx_smooth',\n",
    "        color='gray',\n",
    "        data=tx_per_minute[tx_per_minute['submarine_swap_threshold']==0.6],\n",
    "        ax=ax1)\n",
    "\n",
    "\n",
    "ax2.yaxis.set_major_formatter(ticker.PercentFormatter(xmax=1, decimals=0))\n",
    "ax2.set_xticks([n for n in range(0,1440,60)])\n",
    "ax2.set_xticklabels([str(n) for n in range(24)])\n",
    "ax2.set_xlim(0,1440)\n",
    "ax2.set_ylim(0.9,1.008)\n",
    "\n",
    "ax1.set_xticks([n for n in range(0,1440,60)])\n",
    "ax1.set_xticklabels(['' for n in range(24)])\n",
    "ax1.set_xlim(0,1440)\n",
    "ax1.set_yticks([n for n in range(0,450,100)])\n",
    "\n",
    "ax1.set_xlabel('')\n",
    "ax2.set_xlabel(r'\\textbf{Hour of the Day}')\n",
    "ax2.set_ylabel(r'\\begin{center}\\textbf{Payment Success}\\\\\\textbf{Rate}\\end{center}',fontsize=22)\n",
    "ax1.set_ylabel(r'\\begin{center}\\textbf{Transactions}\\\\\\textbf{per minute}\\end{center}',fontsize=22)\n",
    "\n",
    "handles, labels = ax2.get_legend_handles_labels()\n",
    "custom_labels = ['60\\%', '80\\%', '90\\%']\n",
    "ax2.legend(handles, custom_labels, title=r'\\textbf{Swap Threshold}', loc='lower left', fontsize='14')\n",
    "\n",
    "# Save the plot as a PDF file with tight layout\n",
    "plt.tight_layout()\n",
    "plt.savefig('./plots/plot3_psr-vs-time.pdf',format='pdf',bbox_inches='tight')"
   ]
  },
  {
   "cell_type": "markdown",
   "id": "682323d0-34d2-4a66-8c71-a436b00eef98",
   "metadata": {},
   "source": [
    "## Chart 4"
   ]
  },
  {
   "cell_type": "code",
   "execution_count": null,
   "id": "43ea511e-4da7-4582-a592-312ff6352f0d",
   "metadata": {},
   "outputs": [],
   "source": [
    "goal4_df = results[\n",
    "    (results['tps']==2) &\n",
    "    (results['submarine_swap_threshold'] == 0.9)\n",
    "]\n",
    "goal4_df.head()"
   ]
  },
  {
   "cell_type": "code",
   "execution_count": null,
   "id": "0040ce99-5f97-4614-bcdc-9b11acffeed6",
   "metadata": {},
   "outputs": [],
   "source": [
    "# Plot 4\n",
    "plt.figure(figsize=(7, 5))\n",
    "ax = sns.lineplot(data=goal4_df,\n",
    "                  x='block_congestion_rate',\n",
    "                  y='success',\n",
    "                  hue=\"capacity\",\n",
    "                  palette='tab10',\n",
    "                  estimator='mean',\n",
    "                  errorbar='sd',\n",
    "                  marker='o',\n",
    "                  markersize='8')\n",
    "\n",
    "# Set labels and title\n",
    "ax.set_xlabel(r'\\textbf{Congestion Rate}',fontsize=22)\n",
    "ax.set_ylabel(r'\\textbf{Payment Success Rate}',fontsize=22)\n",
    "\n",
    "ax.set_xticks([x for x in np.arange(0.1,1,0.1)])\n",
    "ax.xaxis.set_major_formatter(ticker.PercentFormatter(xmax=1, decimals=0))\n",
    "ax.yaxis.set_major_formatter(ticker.PercentFormatter(xmax=1, decimals=0))\n",
    "\n",
    "# Combining legend handles and labels from both axes\n",
    "handles, labels = ax.get_legend_handles_labels()\n",
    "custom_labels = ['800k','1.6M','4M']\n",
    "\n",
    "# Creating the legend\n",
    "plt.legend(handles, custom_labels, title=r'\\textbf{Network Liquidity (\\texteuro)}',loc='lower left', fontsize='14')\n",
    "\n",
    "\n",
    "# Save the plot as a PDF file with tight layout\n",
    "plt.tight_layout()\n",
    "plt.savefig('./plots/plot4_psr-vs-cr.pdf',format='pdf',pad_inches = 0,bbox_inches='tight')\n",
    "plt.show()"
   ]
  },
  {
   "cell_type": "markdown",
   "id": "ffd20f59-e5fb-4d11-924b-3ad94639318a",
   "metadata": {},
   "source": [
    "## CSV Migrations"
   ]
  },
  {
   "cell_type": "code",
   "execution_count": null,
   "id": "5c3e6680-099c-4c2a-999e-0164529f3077",
   "metadata": {},
   "outputs": [],
   "source": [
    "results['sync'] = 2\n",
    "results.to_csv(results_file, index=False)"
   ]
  }
 ],
 "metadata": {
  "kernelspec": {
   "display_name": "Python 3 (ipykernel)",
   "language": "python",
   "name": "python3"
  },
  "language_info": {
   "codemirror_mode": {
    "name": "ipython",
    "version": 3
   },
   "file_extension": ".py",
   "mimetype": "text/x-python",
   "name": "python",
   "nbconvert_exporter": "python",
   "pygments_lexer": "ipython3",
   "version": "3.11.9"
  }
 },
 "nbformat": 4,
 "nbformat_minor": 5
}
